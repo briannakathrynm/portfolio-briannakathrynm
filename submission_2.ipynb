{
 "cells": [
  {
   "cell_type": "markdown",
   "metadata": {},
   "source": [
    "# Submission 2\n",
    "I've demonstrated skill *regression* in chapter 1. This file can be found [here](check2/Chapter_1.ipynb).\n",
    "<br>\n",
    "I've demonstrated skill *classification*, *clustering*, and *evaluate* in chapter 2. The file can be found [here](check2/Chapter_2.ipynb). \n",
    "<br>\n",
    "I've demonstrated skill *process* in chapter 3. The file can be found [here](check2/Chapter_3.ipynb). "
   ]
  },
  {
   "cell_type": "markdown",
   "metadata": {},
   "source": [
    "Please look at Chapter 2 in detail, as I believe I've qualified for both level 2 and 3 for *evaluate*."
   ]
  }
 ],
 "metadata": {
  "kernelspec": {
   "display_name": "Python 3",
   "language": "python",
   "name": "python3"
  },
  "language_info": {
   "codemirror_mode": {
    "name": "ipython",
    "version": 3
   },
   "file_extension": ".py",
   "mimetype": "text/x-python",
   "name": "python",
   "nbconvert_exporter": "python",
   "pygments_lexer": "ipython3",
   "version": "3.8.3"
  }
 },
 "nbformat": 4,
 "nbformat_minor": 4
}
