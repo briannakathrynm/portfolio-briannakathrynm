{
 "cells": [
  {
   "cell_type": "markdown",
   "metadata": {},
   "source": [
    "# Check 4 Chapter 3\n",
    "Skills in this chapter:\n",
    "* Unstructured Level 3\n",
    "* Workflow Level 3"
   ]
  },
  {
   "cell_type": "markdown",
   "metadata": {},
   "source": [
    "**Unstructured Level 3**\n",
    "<br>\n",
    "Apply multiple representations and compare and contrast them for different end results."
   ]
  },
  {
   "cell_type": "markdown",
   "metadata": {},
   "source": [
    "## Unstructured Level 3\n",
    "For this portion of my portfolio, I will be briefly touching upon the different representations of unstructured data covered in **Assignment 12**. To refresh, here are the different methods we can use:\n",
    "\n",
    "**CountVectorizer**\n",
    "<br>\n",
    "Returns an encoded vector with a length of the entire vocabulary and an integer count for the number of times each word appeared in the document.\n",
    "\n",
    "**TfidfVectorizer**\n",
    "<br>\n",
    "Allows use to tokenize documents, learn similar vocabularies and the frequencies/weights of different works in documents (but not across documents), and allows you to encode new documents.\n",
    "\n",
    "**HashingVectorizer**\n",
    "<br>\n",
    "Uses a one-way hash of words to convert them into integers, and then tokenizes and encodes the documents as needed."
   ]
  },
  {
   "cell_type": "markdown",
   "metadata": {},
   "source": [
    "For this portfolio, I will be comparing and contrasting **CountVectorizer** with **HashingVectorizer**. Here are the similarities and differences between these two methods:\n",
    "* HashingVectorizer converts the collection of text documents to a matrix of occurrences, while CountVectorizer converts it to a matrix of counts.\n",
    "* HashingVectorizer is very low memory scalable to large datasets as there is no need to store a vocabulary dictionary in memory.\n",
    "\n",
    "CountVectorizer is very straightforward, so I'm mostly highlighting the differences in HashVectorizer."
   ]
  },
  {
   "cell_type": "code",
   "execution_count": null,
   "metadata": {},
   "outputs": [],
   "source": []
  }
 ],
 "metadata": {
  "kernelspec": {
   "display_name": "Python 3",
   "language": "python",
   "name": "python3"
  },
  "language_info": {
   "codemirror_mode": {
    "name": "ipython",
    "version": 3
   },
   "file_extension": ".py",
   "mimetype": "text/x-python",
   "name": "python",
   "nbconvert_exporter": "python",
   "pygments_lexer": "ipython3",
   "version": "3.8.3"
  }
 },
 "nbformat": 4,
 "nbformat_minor": 4
}
