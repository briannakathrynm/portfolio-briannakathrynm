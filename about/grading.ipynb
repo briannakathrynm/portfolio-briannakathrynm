{
 "cells": [
  {
   "cell_type": "markdown",
   "metadata": {},
   "source": [
    "# Compute the Grade for CSC/DSP 310\n",
    "* To run by entering values into function, please run **compute_grade()** with desired values."
   ]
  },
  {
   "cell_type": "code",
   "execution_count": null,
   "metadata": {},
   "outputs": [],
   "source": [
    "def compute_grade(num_level1, num_level2, num_level3):\n",
    "    \"\"\"\n",
    "    Computes a grade for CSC/DSP 310 from numbers of achievements earned at each level\n",
    "    :param num_level1: int, number of level 1 achievements earned\n",
    "    :param num_level2: int, number of level 2 achievements earned\n",
    "    :param num_level3: int, number of level 3 achievements earned\n",
    "    :return: letter_grade: string, letter grade with possible modifier (+/-)\n",
    "    \"\"\"\n",
    "    # Initializing Variables\n",
    "    letter_grade = \"\"\n",
    "    total_grade = num_level1 + num_level2 + num_level3\n",
    "\n",
    "    # Error Handling\n",
    "    if total_grade > 45:\n",
    "        print(\"Invalid total. Please re-enter values.\")\n",
    "    \n",
    "    # Definitions of Grades    \n",
    "    else:\n",
    "        if 3 <= num_level1 < 5:\n",
    "            letter_grade = 'D'\n",
    "        elif 5 <= num_level1 < 10:\n",
    "            letter_grade = 'D+'\n",
    "        elif 10 <= num_level1 < 15:\n",
    "            letter_grade = 'C-'\n",
    "        elif num_level1 == 15 and 0 <= num_level2 < 5:\n",
    "            letter_grade = 'C'\n",
    "        elif num_level1 == 15 and 5 <= num_level2 < 10:\n",
    "            letter_grade = 'C+'\n",
    "        elif num_level1 == 15 and 10 <= num_level2 < 15:\n",
    "            letter_grade = 'B-'\n",
    "        elif num_level1 == 15 and num_level2 == 15 and 0 <= num_level3 < 5:\n",
    "            letter_grade = 'B'\n",
    "        elif num_level1 == 15 and num_level2 == 15 and 5 <= num_level3 < 10:\n",
    "            letter_grade = 'B+'\n",
    "        elif num_level1 == 15 and num_level2 == 15 and 10 <= num_level3 < 15:\n",
    "            letter_grade = 'A-'\n",
    "        elif num_level1 == 15 and num_level2 == 15 and num_level3 == 15:\n",
    "            letter_grade = 'A'\n",
    "        else:\n",
    "            print(\"Does not translate to letter grade.\")\n",
    "    print(f'Your grade is {letter_grade}.')"
   ]
  },
  {
   "cell_type": "markdown",
   "metadata": {},
   "source": [
    "The example below will give a grade of a C."
   ]
  },
  {
   "cell_type": "code",
   "execution_count": null,
   "metadata": {},
   "outputs": [],
   "source": [
    "# Example 1\n",
    "compute_grade(15, 2, 0)"
   ]
  },
  {
   "cell_type": "markdown",
   "metadata": {},
   "source": [
    "The example below will give a grade of a B."
   ]
  },
  {
   "cell_type": "code",
   "execution_count": null,
   "metadata": {},
   "outputs": [],
   "source": [
    "# Example 2\n",
    "compute_grade(15, 15, 2)"
   ]
  },
  {
   "cell_type": "markdown",
   "metadata": {},
   "source": [
    "The example below will give a grade of an A-."
   ]
  },
  {
   "cell_type": "code",
   "execution_count": null,
   "metadata": {},
   "outputs": [],
   "source": [
    "# Example 3\n",
    "compute_grade(15, 15, 12)"
   ]
  }
 ],
 "metadata": {
  "jupytext": {
   "formats": "ipynb,md"
  },
  "kernelspec": {
   "display_name": "Python 3",
   "language": "python",
   "name": "python3"
  },
  "language_info": {
   "codemirror_mode": {
    "name": "ipython",
    "version": 3
   },
   "file_extension": ".py",
   "mimetype": "text/x-python",
   "name": "python",
   "nbconvert_exporter": "python",
   "pygments_lexer": "ipython3",
   "version": "3.8.3"
  }
 },
 "nbformat": 4,
 "nbformat_minor": 4
}
