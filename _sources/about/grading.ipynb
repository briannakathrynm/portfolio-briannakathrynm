{
 "cells": [
  {
   "cell_type": "markdown",
   "metadata": {},
   "source": [
    "# Compute the Grade for CSC/DSP 310\n",
    "* To run with input from user, please run **main()** in a cell.\n",
    "* To run by entering values into function, please run **compute_grade()** with desired values."
   ]
  },
  {
   "cell_type": "code",
   "execution_count": 1,
   "metadata": {},
   "outputs": [],
   "source": [
    "def main():\n",
    "    # Initializing Variables\n",
    "    num_level1 = int(input(\"Enter number of total level 1 achievements earned: \"))\n",
    "    num_level2 = int(input(\"Enter number of total level 2 achievements earned: \"))\n",
    "    num_level3 = int(input(\"Enter number of total level 3 achievements earned: \"))\n",
    "\n",
    "    compute_grade(num_level1, num_level2, num_level3)"
   ]
  },
  {
   "cell_type": "code",
   "execution_count": 2,
   "metadata": {},
   "outputs": [],
   "source": [
    "def compute_grade(num_level1, num_level2, num_level3):\n",
    "    \"\"\"\n",
    "    Computes a grade for CSC/DSP 310 from numbers of achievements earned at each level\n",
    "    :param num_level1: int, number of level 1 achievements earned\n",
    "    :param num_level2: int, number of level 2 achievements earned\n",
    "    :param num_level3: int, number of level 3 achievements earned\n",
    "    :return: letter_grade: string, letter grade with possible modifier (+/-)\n",
    "    \"\"\"\n",
    "    # Initializing Variables\n",
    "    total_grade = num_level1 + num_level2 + num_level3\n",
    "    letter_grade = str\n",
    "\n",
    "    # Error Handling\n",
    "    if total_grade > 45:\n",
    "        print(\"Invalid total. Please re-enter values.\")\n",
    "    # Definitions of Grades    \n",
    "    else:\n",
    "        if total_grade == 45:\n",
    "            letter_grade = 'A'\n",
    "        elif 40 <= total_grade < 45:\n",
    "            letter_grade = 'A-'\n",
    "        elif 35 <= total_grade < 40:\n",
    "            letter_grade = 'B+'\n",
    "        elif 30 <= total_grade < 35:\n",
    "            letter_grade = 'B'\n",
    "        elif 25 <= total_grade < 30:\n",
    "            letter_grade = 'B-'\n",
    "        elif 20 <= total_grade < 25:\n",
    "            letter_grade = 'C+'\n",
    "        elif 15 <= total_grade < 20:\n",
    "            letter_grade = 'C'\n",
    "        elif 10 <= total_grade < 15:\n",
    "            letter_grade = 'C-'\n",
    "        elif 5 <= total_grade < 10:\n",
    "            letter_grade = 'D+'\n",
    "        elif 0 <= total_grade < 5:\n",
    "            letter_grade = 'D'\n",
    "        else:\n",
    "            print(\"Your grade does not translate to a letter grade.\")\n",
    "        print(f'Your grade is {letter_grade}.')"
   ]
  },
  {
   "cell_type": "markdown",
   "metadata": {},
   "source": [
    "The example below will give a grade of a C."
   ]
  },
  {
   "cell_type": "code",
   "execution_count": 3,
   "metadata": {},
   "outputs": [
    {
     "name": "stdout",
     "output_type": "stream",
     "text": [
      "Your grade is C.\n"
     ]
    }
   ],
   "source": [
    "# Example 1\n",
    "compute_grade(9, 6, 2)"
   ]
  },
  {
   "cell_type": "markdown",
   "metadata": {},
   "source": [
    "The example below will give a grade of a B."
   ]
  },
  {
   "cell_type": "code",
   "execution_count": 4,
   "metadata": {},
   "outputs": [
    {
     "name": "stdout",
     "output_type": "stream",
     "text": [
      "Your grade is B.\n"
     ]
    }
   ],
   "source": [
    "# Example 2\n",
    "compute_grade(15, 16, 2)"
   ]
  },
  {
   "cell_type": "markdown",
   "metadata": {},
   "source": [
    "The example below will give a grade of an A-."
   ]
  },
  {
   "cell_type": "code",
   "execution_count": 5,
   "metadata": {},
   "outputs": [
    {
     "name": "stdout",
     "output_type": "stream",
     "text": [
      "Your grade is A-.\n"
     ]
    }
   ],
   "source": [
    "# Example 3\n",
    "compute_grade(15, 14, 12)"
   ]
  }
 ],
 "metadata": {
  "jupytext": {
   "text_representation": {
    "extension": ".md",
    "format_name": "myst",
    "format_version": 0.12,
    "jupytext_version": "1.6.0"
   }
  },
  "kernelspec": {
   "display_name": "Python 3",
   "language": "python",
   "name": "python3"
  },
  "language_info": {
   "codemirror_mode": {
    "name": "ipython",
    "version": 3
   },
   "file_extension": ".py",
   "mimetype": "text/x-python",
   "name": "python",
   "nbconvert_exporter": "python",
   "pygments_lexer": "ipython3",
   "version": "3.7.9"
  },
  "source_map": [
   12,
   18,
   28,
   69,
   73,
   76,
   80,
   83,
   87
  ]
 },
 "nbformat": 4,
 "nbformat_minor": 4
}