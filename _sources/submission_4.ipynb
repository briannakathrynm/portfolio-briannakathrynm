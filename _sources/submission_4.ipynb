{
 "cells": [
  {
   "cell_type": "markdown",
   "metadata": {},
   "source": [
    "# Portfolio Check 4\n",
    "\n",
    "I've demonstrated skills workflow level 3, clustering level 3, evaluate level 3, compare level 2 and 3, and optimize level 3 in chapter 1. The file can be found [here](check4/Chapter_1.ipynb).\n",
    "<br>\n",
    "I've demonstrated skill unstructured level 3. The file can be found [here](check4/Chapter_2.ipynb). \n",
    "<br><br>\n",
    "Please look at Chapter 1 in detail, as many of the sections have areas of other skills in them (which I do specify). \n",
    "<br><br>\n",
    "**Thank you for the great semester!**"
   ]
  }
 ],
 "metadata": {
  "kernelspec": {
   "display_name": "Python 3",
   "language": "python",
   "name": "python3"
  },
  "language_info": {
   "codemirror_mode": {
    "name": "ipython",
    "version": 3
   },
   "file_extension": ".py",
   "mimetype": "text/x-python",
   "name": "python",
   "nbconvert_exporter": "python",
   "pygments_lexer": "ipython3",
   "version": "3.8.3"
  }
 },
 "nbformat": 4,
 "nbformat_minor": 4
}
