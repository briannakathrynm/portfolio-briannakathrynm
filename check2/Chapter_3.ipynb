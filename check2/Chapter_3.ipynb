{
 "cells": [
  {
   "cell_type": "markdown",
   "metadata": {},
   "source": [
    "# Chapter 3\n",
    "I've demonstrated skill *process* in this chapter."
   ]
  },
  {
   "cell_type": "markdown",
   "metadata": {},
   "source": [
    "**Process**\n",
    "<br>\n",
    "Compare different ways that data science can facilitate decision making"
   ]
  },
  {
   "cell_type": "markdown",
   "metadata": {},
   "source": [
    "## Process Level 3"
   ]
  },
  {
   "cell_type": "markdown",
   "metadata": {},
   "source": [
    "There are many different ways that data science can facilitate decision making. For example, individuals in the field of economics now have access to more data about consumer insights and consumption patterns. These newfound analytics can be used to shape their products, solutions, customer service, and overall buying experience. According to [this research study](https://www.mckinsey.com/business-functions/mckinsey-analytics/our-insights/the-age-of-analytics-competing-in-a-data-driven-world), organizations that are using their consumer behavior insights strategically are outperforming their peers by 85 percent in sales growth margins and by more than 25 percent in gross margins."
   ]
  },
  {
   "cell_type": "markdown",
   "metadata": {},
   "source": [
    "Other than applications in the business and economic sectors, data science can also facilitate decision making when it comes to identifying diseases and disorders using machine learning. From the models we learned in class (and different applications I've used in assignments), ML can be used to aid the process of *detecting benign vs. cancerous tumors*, *identifying asymptomatic vs. symptomatic patients*, and even giving the entire diagnose based on a set of chosen attributes and features."
   ]
  },
  {
   "cell_type": "markdown",
   "metadata": {},
   "source": [
    "The process of decision making has been greatly aided by the introduction and incorporation of Data Science practices and methods. From implementations of machine learning, statistics, and domain expertise, all different sectors of Data Science help to facilitate decision making in a variety of fields."
   ]
  }
 ],
 "metadata": {
  "jupytext": {
   "formats": "ipynb,md"
  },
  "kernelspec": {
   "display_name": "Python 3",
   "language": "python",
   "name": "python3"
  },
  "language_info": {
   "codemirror_mode": {
    "name": "ipython",
    "version": 3
   },
   "file_extension": ".py",
   "mimetype": "text/x-python",
   "name": "python",
   "nbconvert_exporter": "python",
   "pygments_lexer": "ipython3",
   "version": "3.8.3"
  }
 },
 "nbformat": 4,
 "nbformat_minor": 4
}
